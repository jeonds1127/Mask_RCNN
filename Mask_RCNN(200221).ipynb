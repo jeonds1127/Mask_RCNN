{
  "nbformat": 4,
  "nbformat_minor": 0,
  "metadata": {
    "colab": {
      "name": "Mask_RCNN(200221).ipynb",
      "provenance": [],
      "collapsed_sections": [],
      "toc_visible": true,
      "mount_file_id": "1_X_t2qTOYsmq_EU5MI1O-wbEUmp-sCwS",
      "authorship_tag": "ABX9TyMtOBKCOjxLQAmuU59WBt0j",
      "include_colab_link": true
    },
    "kernelspec": {
      "name": "python3",
      "display_name": "Python 3"
    },
    "accelerator": "GPU"
  },
  "cells": [
    {
      "cell_type": "markdown",
      "metadata": {
        "id": "view-in-github",
        "colab_type": "text"
      },
      "source": [
        "<a href=\"https://colab.research.google.com/github/jeonds1127/Mask_RCNN/blob/master/Mask_RCNN(200221).ipynb\" target=\"_parent\"><img src=\"https://colab.research.google.com/assets/colab-badge.svg\" alt=\"Open In Colab\"/></a>"
      ]
    },
    {
      "cell_type": "markdown",
      "metadata": {
        "id": "3KuJiVhodrfu",
        "colab_type": "text"
      },
      "source": [
        "# **[colab] Mask_RCNN balloon**"
      ]
    },
    {
      "cell_type": "markdown",
      "metadata": {
        "id": "A5xzYLzgeVjk",
        "colab_type": "text"
      },
      "source": [
        "## 1. 구글드라이브 마운트"
      ]
    },
    {
      "cell_type": "code",
      "metadata": {
        "id": "mEXcsvKxojky",
        "colab_type": "code",
        "colab": {
          "base_uri": "https://localhost:8080/",
          "height": 35
        },
        "outputId": "7b37f310-1b48-402e-bbc5-77326e7dc1e3"
      },
      "source": [
        "from google.colab import drive\n",
        "drive.mount('/content/drive')"
      ],
      "execution_count": 9,
      "outputs": [
        {
          "output_type": "stream",
          "text": [
            "Drive already mounted at /content/drive; to attempt to forcibly remount, call drive.mount(\"/content/drive\", force_remount=True).\n"
          ],
          "name": "stdout"
        }
      ]
    },
    {
      "cell_type": "markdown",
      "metadata": {
        "colab_type": "text",
        "id": "j8yIznlXeqEg"
      },
      "source": [
        "## 2. Mask_RCNN 소스 및 balloon dataset 다운\n",
        "\n",
        "\n"
      ]
    },
    {
      "cell_type": "code",
      "metadata": {
        "id": "iUbz9an3vJEC",
        "colab_type": "code",
        "colab": {
          "base_uri": "https://localhost:8080/",
          "height": 107
        },
        "outputId": "94eb98d7-0387-4f52-ed63-e3ced4558536"
      },
      "source": [
        "!git clone https://github.com/matterport/Mask_RCNN.git"
      ],
      "execution_count": 10,
      "outputs": [
        {
          "output_type": "stream",
          "text": [
            "Cloning into 'Mask_RCNN'...\n",
            "remote: Enumerating objects: 956, done.\u001b[K\n",
            "remote: Total 956 (delta 0), reused 0 (delta 0), pack-reused 956\u001b[K\n",
            "Receiving objects: 100% (956/956), 111.84 MiB | 33.57 MiB/s, done.\n",
            "Resolving deltas: 100% (569/569), done.\n"
          ],
          "name": "stdout"
        }
      ]
    },
    {
      "cell_type": "code",
      "metadata": {
        "id": "TyS0P52_pRms",
        "colab_type": "code",
        "colab": {}
      },
      "source": [
        "!wget https://github.com/matterport/Mask_RCNN/releases/download/v2.1/balloon_dataset.zip"
      ],
      "execution_count": 0,
      "outputs": []
    },
    {
      "cell_type": "markdown",
      "metadata": {
        "id": "heaqMCj2iH0F",
        "colab_type": "text"
      },
      "source": [
        "2.1. balloon.py 수정내용\n",
        "1. ROOT_DIR을 Mask_RCNN 디렉토리로 수정한다.\n",
        "2. import 부분 수정\n",
        "3. detect_and_color_splash()의 save 경로 수정"
      ]
    },
    {
      "cell_type": "markdown",
      "metadata": {
        "colab_type": "text",
        "id": "iNtTg7uJe4OL"
      },
      "source": [
        "## 3. training"
      ]
    },
    {
      "cell_type": "code",
      "metadata": {
        "id": "jSrr7q09qFFX",
        "colab_type": "code",
        "colab": {}
      },
      "source": [
        "!python3 '/content/drive/My Drive/jds_project/project/Mask_RCNN/samples/balloon/balloon.py' train --dataset='/content/drive/My Drive/jds_project/dataset/balloon' --weights=coco --logs='/content/drive/My Drive/jds_project/weights'"
      ],
      "execution_count": 0,
      "outputs": []
    },
    {
      "cell_type": "markdown",
      "metadata": {
        "colab_type": "text",
        "id": "4RT7IFgeisb4"
      },
      "source": [
        "## 4. testing"
      ]
    },
    {
      "cell_type": "code",
      "metadata": {
        "id": "AxtJ65qRb02-",
        "colab_type": "code",
        "colab": {}
      },
      "source": [
        "!python3 '/content/drive/My Drive/jds_project/project/Mask_RCNN/samples/balloon/balloon.py' splash --weights='/content/drive/My Drive/jds_project/weights/Mask_RCNN[balloon]/balloon20200221T0917/mask_rcnn_balloon_0030.h5' --image='/content/drive/My Drive/jds_project/dataset/balloon/val/410488422_5f8991f26e_b.jpg'"
      ],
      "execution_count": 0,
      "outputs": []
    }
  ]
}