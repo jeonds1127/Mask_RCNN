{
  "nbformat": 4,
  "nbformat_minor": 0,
  "metadata": {
    "colab": {
      "name": "Mask_RCNN(200221).ipynb",
      "provenance": [],
      "toc_visible": true,
      "mount_file_id": "1_X_t2qTOYsmq_EU5MI1O-wbEUmp-sCwS",
      "authorship_tag": "ABX9TyNxQanxAP9Y1YEU3PQfDtPi",
      "include_colab_link": true
    },
    "kernelspec": {
      "name": "python3",
      "display_name": "Python 3"
    },
    "accelerator": "GPU"
  },
  "cells": [
    {
      "cell_type": "markdown",
      "metadata": {
        "id": "view-in-github",
        "colab_type": "text"
      },
      "source": [
        "<a href=\"https://colab.research.google.com/github/jeonds1127/Mask_RCNN/blob/master/Mask_RCNN(200221).ipynb\" target=\"_parent\"><img src=\"https://colab.research.google.com/assets/colab-badge.svg\" alt=\"Open In Colab\"/></a>"
      ]
    },
    {
      "cell_type": "markdown",
      "metadata": {
        "id": "3KuJiVhodrfu",
        "colab_type": "text"
      },
      "source": [
        "# **[colab] Mask_RCNN balloon**"
      ]
    },
    {
      "cell_type": "markdown",
      "metadata": {
        "id": "A5xzYLzgeVjk",
        "colab_type": "text"
      },
      "source": [
        "## 1. 구글드라이브 마운트"
      ]
    },
    {
      "cell_type": "code",
      "metadata": {
        "id": "mEXcsvKxojky",
        "colab_type": "code",
        "colab": {}
      },
      "source": [
        "from google.colab import drive\n",
        "drive.mount('/content/drive')"
      ],
      "execution_count": 0,
      "outputs": []
    },
    {
      "cell_type": "markdown",
      "metadata": {
        "colab_type": "text",
        "id": "j8yIznlXeqEg"
      },
      "source": [
        "## 2. Mask_RCNN 소스다운"
      ]
    },
    {
      "cell_type": "code",
      "metadata": {
        "id": "iUbz9an3vJEC",
        "colab_type": "code",
        "colab": {}
      },
      "source": [
        "!git clone https://github.com/matterport/Mask_RCNN.git"
      ],
      "execution_count": 0,
      "outputs": []
    },
    {
      "cell_type": "markdown",
      "metadata": {
        "id": "heaqMCj2iH0F",
        "colab_type": "text"
      },
      "source": [
        "2.1. \n",
        "balloon.py에서 ROOT_DIR을 Mask_RCNN 디렉토리로 수정한다.\n",
        "ROOT_DIR = os.path.abspath(\"/content/drive/My Drive/Colab Notebooks/Mask_RCNN\")"
      ]
    },
    {
      "cell_type": "markdown",
      "metadata": {
        "colab_type": "text",
        "id": "iNtTg7uJe4OL"
      },
      "source": [
        "## 3. training"
      ]
    },
    {
      "cell_type": "code",
      "metadata": {
        "id": "jSrr7q09qFFX",
        "colab_type": "code",
        "colab": {}
      },
      "source": [
        "!python3 '/content/drive/My Drive/Mask_RCNN/balloon.py' train --dataset='/content/drive/My Drive/Mask_RCNN/balloon_dataset/balloon' --weights=coco --logs='/content/drive/My Drive/Mask_RCNN/'"
      ],
      "execution_count": 0,
      "outputs": []
    },
    {
      "cell_type": "markdown",
      "metadata": {
        "id": "yuGzVXefi65T",
        "colab_type": "text"
      },
      "source": [
        ""
      ]
    },
    {
      "cell_type": "markdown",
      "metadata": {
        "colab_type": "text",
        "id": "4RT7IFgeisb4"
      },
      "source": [
        "## 4. testing"
      ]
    },
    {
      "cell_type": "code",
      "metadata": {
        "id": "AxtJ65qRb02-",
        "colab_type": "code",
        "colab": {}
      },
      "source": [
        "!python3 '/content/drive/My Drive/Mask_RCNN/balloon.py' splash --weights='/content/drive/My Drive/Mask_RCNN/balloon20200221T0917/mask_rcnn_balloon_0030.h5' --image='/content/drive/My Drive/Mask_RCNN/balloon_dataset/balloon/val/410488422_5f8991f26e_b.jpg'"
      ],
      "execution_count": 0,
      "outputs": []
    }
  ]
}